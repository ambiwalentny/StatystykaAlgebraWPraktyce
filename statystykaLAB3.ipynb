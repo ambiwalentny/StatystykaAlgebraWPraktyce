{
  "nbformat": 4,
  "nbformat_minor": 0,
  "metadata": {
    "colab": {
      "provenance": []
    },
    "kernelspec": {
      "name": "python3",
      "display_name": "Python 3"
    },
    "language_info": {
      "name": "python"
    }
  },
  "cells": [
    {
      "cell_type": "markdown",
      "source": [
        "# Statystyka lab 3"
      ],
      "metadata": {
        "id": "GiKqs4kKMA3O"
      }
    },
    {
      "cell_type": "code",
      "source": [
        "from google.colab import files\n",
        "uploaded = files.upload()"
      ],
      "metadata": {
        "colab": {
          "base_uri": "https://localhost:8080/",
          "height": 108
        },
        "id": "Uq9Pz2idIikJ",
        "outputId": "56e77213-85da-4819-a3de-a06aa858e232"
      },
      "execution_count": null,
      "outputs": [
        {
          "output_type": "display_data",
          "data": {
            "text/plain": [
              "<IPython.core.display.HTML object>"
            ],
            "text/html": [
              "\n",
              "     <input type=\"file\" id=\"files-22d43ff0-7ec3-4466-b298-5ae7f096fa40\" name=\"files[]\" multiple disabled\n",
              "        style=\"border:none\" />\n",
              "     <output id=\"result-22d43ff0-7ec3-4466-b298-5ae7f096fa40\">\n",
              "      Upload widget is only available when the cell has been executed in the\n",
              "      current browser session. Please rerun this cell to enable.\n",
              "      </output>\n",
              "      <script>// Copyright 2017 Google LLC\n",
              "//\n",
              "// Licensed under the Apache License, Version 2.0 (the \"License\");\n",
              "// you may not use this file except in compliance with the License.\n",
              "// You may obtain a copy of the License at\n",
              "//\n",
              "//      http://www.apache.org/licenses/LICENSE-2.0\n",
              "//\n",
              "// Unless required by applicable law or agreed to in writing, software\n",
              "// distributed under the License is distributed on an \"AS IS\" BASIS,\n",
              "// WITHOUT WARRANTIES OR CONDITIONS OF ANY KIND, either express or implied.\n",
              "// See the License for the specific language governing permissions and\n",
              "// limitations under the License.\n",
              "\n",
              "/**\n",
              " * @fileoverview Helpers for google.colab Python module.\n",
              " */\n",
              "(function(scope) {\n",
              "function span(text, styleAttributes = {}) {\n",
              "  const element = document.createElement('span');\n",
              "  element.textContent = text;\n",
              "  for (const key of Object.keys(styleAttributes)) {\n",
              "    element.style[key] = styleAttributes[key];\n",
              "  }\n",
              "  return element;\n",
              "}\n",
              "\n",
              "// Max number of bytes which will be uploaded at a time.\n",
              "const MAX_PAYLOAD_SIZE = 100 * 1024;\n",
              "\n",
              "function _uploadFiles(inputId, outputId) {\n",
              "  const steps = uploadFilesStep(inputId, outputId);\n",
              "  const outputElement = document.getElementById(outputId);\n",
              "  // Cache steps on the outputElement to make it available for the next call\n",
              "  // to uploadFilesContinue from Python.\n",
              "  outputElement.steps = steps;\n",
              "\n",
              "  return _uploadFilesContinue(outputId);\n",
              "}\n",
              "\n",
              "// This is roughly an async generator (not supported in the browser yet),\n",
              "// where there are multiple asynchronous steps and the Python side is going\n",
              "// to poll for completion of each step.\n",
              "// This uses a Promise to block the python side on completion of each step,\n",
              "// then passes the result of the previous step as the input to the next step.\n",
              "function _uploadFilesContinue(outputId) {\n",
              "  const outputElement = document.getElementById(outputId);\n",
              "  const steps = outputElement.steps;\n",
              "\n",
              "  const next = steps.next(outputElement.lastPromiseValue);\n",
              "  return Promise.resolve(next.value.promise).then((value) => {\n",
              "    // Cache the last promise value to make it available to the next\n",
              "    // step of the generator.\n",
              "    outputElement.lastPromiseValue = value;\n",
              "    return next.value.response;\n",
              "  });\n",
              "}\n",
              "\n",
              "/**\n",
              " * Generator function which is called between each async step of the upload\n",
              " * process.\n",
              " * @param {string} inputId Element ID of the input file picker element.\n",
              " * @param {string} outputId Element ID of the output display.\n",
              " * @return {!Iterable<!Object>} Iterable of next steps.\n",
              " */\n",
              "function* uploadFilesStep(inputId, outputId) {\n",
              "  const inputElement = document.getElementById(inputId);\n",
              "  inputElement.disabled = false;\n",
              "\n",
              "  const outputElement = document.getElementById(outputId);\n",
              "  outputElement.innerHTML = '';\n",
              "\n",
              "  const pickedPromise = new Promise((resolve) => {\n",
              "    inputElement.addEventListener('change', (e) => {\n",
              "      resolve(e.target.files);\n",
              "    });\n",
              "  });\n",
              "\n",
              "  const cancel = document.createElement('button');\n",
              "  inputElement.parentElement.appendChild(cancel);\n",
              "  cancel.textContent = 'Cancel upload';\n",
              "  const cancelPromise = new Promise((resolve) => {\n",
              "    cancel.onclick = () => {\n",
              "      resolve(null);\n",
              "    };\n",
              "  });\n",
              "\n",
              "  // Wait for the user to pick the files.\n",
              "  const files = yield {\n",
              "    promise: Promise.race([pickedPromise, cancelPromise]),\n",
              "    response: {\n",
              "      action: 'starting',\n",
              "    }\n",
              "  };\n",
              "\n",
              "  cancel.remove();\n",
              "\n",
              "  // Disable the input element since further picks are not allowed.\n",
              "  inputElement.disabled = true;\n",
              "\n",
              "  if (!files) {\n",
              "    return {\n",
              "      response: {\n",
              "        action: 'complete',\n",
              "      }\n",
              "    };\n",
              "  }\n",
              "\n",
              "  for (const file of files) {\n",
              "    const li = document.createElement('li');\n",
              "    li.append(span(file.name, {fontWeight: 'bold'}));\n",
              "    li.append(span(\n",
              "        `(${file.type || 'n/a'}) - ${file.size} bytes, ` +\n",
              "        `last modified: ${\n",
              "            file.lastModifiedDate ? file.lastModifiedDate.toLocaleDateString() :\n",
              "                                    'n/a'} - `));\n",
              "    const percent = span('0% done');\n",
              "    li.appendChild(percent);\n",
              "\n",
              "    outputElement.appendChild(li);\n",
              "\n",
              "    const fileDataPromise = new Promise((resolve) => {\n",
              "      const reader = new FileReader();\n",
              "      reader.onload = (e) => {\n",
              "        resolve(e.target.result);\n",
              "      };\n",
              "      reader.readAsArrayBuffer(file);\n",
              "    });\n",
              "    // Wait for the data to be ready.\n",
              "    let fileData = yield {\n",
              "      promise: fileDataPromise,\n",
              "      response: {\n",
              "        action: 'continue',\n",
              "      }\n",
              "    };\n",
              "\n",
              "    // Use a chunked sending to avoid message size limits. See b/62115660.\n",
              "    let position = 0;\n",
              "    do {\n",
              "      const length = Math.min(fileData.byteLength - position, MAX_PAYLOAD_SIZE);\n",
              "      const chunk = new Uint8Array(fileData, position, length);\n",
              "      position += length;\n",
              "\n",
              "      const base64 = btoa(String.fromCharCode.apply(null, chunk));\n",
              "      yield {\n",
              "        response: {\n",
              "          action: 'append',\n",
              "          file: file.name,\n",
              "          data: base64,\n",
              "        },\n",
              "      };\n",
              "\n",
              "      let percentDone = fileData.byteLength === 0 ?\n",
              "          100 :\n",
              "          Math.round((position / fileData.byteLength) * 100);\n",
              "      percent.textContent = `${percentDone}% done`;\n",
              "\n",
              "    } while (position < fileData.byteLength);\n",
              "  }\n",
              "\n",
              "  // All done.\n",
              "  yield {\n",
              "    response: {\n",
              "      action: 'complete',\n",
              "    }\n",
              "  };\n",
              "}\n",
              "\n",
              "scope.google = scope.google || {};\n",
              "scope.google.colab = scope.google.colab || {};\n",
              "scope.google.colab._files = {\n",
              "  _uploadFiles,\n",
              "  _uploadFilesContinue,\n",
              "};\n",
              "})(self);\n",
              "</script> "
            ]
          },
          "metadata": {}
        },
        {
          "output_type": "stream",
          "name": "stdout",
          "text": [
            "Saving napoje.csv to napoje (1).csv\n",
            "Saving napoje_po_reklamie.csv to napoje_po_reklamie.csv\n"
          ]
        }
      ]
    },
    {
      "cell_type": "markdown",
      "source": [
        "### zadanie 1\n"
      ],
      "metadata": {
        "id": "kD-irUgvAyXW"
      }
    },
    {
      "cell_type": "code",
      "execution_count": null,
      "metadata": {
        "colab": {
          "base_uri": "https://localhost:8080/"
        },
        "id": "BKRbcxAsAwW3",
        "outputId": "9c19563b-1f0a-4529-91eb-6705ad9f5576"
      },
      "outputs": [
        {
          "output_type": "stream",
          "name": "stdout",
          "text": [
            "Wyniki testu t dla hipotezy dotyczącej średniej:\n",
            "T-statystyka: -0.8724891121311197\n",
            "Wartość p: 0.3839931090277108\n"
          ]
        }
      ],
      "source": [
        "import numpy as np\n",
        "from scipy.stats import ttest_1samp\n",
        "\n",
        "# Generowanie próby losowej dla rozkładu normalnego\n",
        "np.random.seed(42)\n",
        "mean = 2\n",
        "std_dev = 30\n",
        "sample_size = 200\n",
        "random_sample = np.random.normal(mean, std_dev, sample_size)\n",
        "\n",
        "# Testowanie hipotezy dotyczącej średniej\n",
        "hypothesized_mean = 2.5\n",
        "t_stat, p_value = ttest_1samp(random_sample, hypothesized_mean)\n",
        "\n",
        "print(\"Wyniki testu t dla hipotezy dotyczącej średniej:\")\n",
        "print(f\"T-statystyka: {t_stat}\")\n",
        "print(f\"Wartość p: {p_value}\")\n"
      ]
    },
    {
      "cell_type": "markdown",
      "source": [
        "### zadanie 2"
      ],
      "metadata": {
        "id": "nKWxE7PyIUSj"
      }
    },
    {
      "cell_type": "code",
      "source": [
        "import pandas as pd\n",
        "from scipy.stats import ttest_1samp\n",
        "\n",
        "# Wczytanie pliku napoje.csv do DataFrame\n",
        "df = pd.read_csv(\"napoje.csv\", sep=\";\")\n",
        "print(df.columns)\n",
        "# Weryfikacja hipotezy dotyczącej średnich spożycia piwa, coli i piw regionalnych\n",
        "variables_to_test = {'lech': 60500, 'cola': 222000, 'regionalne': 43500}\n",
        "\n",
        "for variable, hypothesized_mean in variables_to_test.items():\n",
        "    t_stat, p_value = ttest_1samp(df[variable], hypothesized_mean)\n",
        "    print(f\"\\nWyniki testu t dla hipotezy dotyczącej {variable}:\")\n",
        "    print(f\"T-statystyka: {t_stat}\")\n",
        "    print(f\"Wartość p: {p_value}\")\n"
      ],
      "metadata": {
        "colab": {
          "base_uri": "https://localhost:8080/"
        },
        "id": "hOH0CZMiIS5C",
        "outputId": "100c357c-a8fd-42b1-cb64-431fd48c4ee0"
      },
      "execution_count": null,
      "outputs": [
        {
          "output_type": "stream",
          "name": "stdout",
          "text": [
            "Index(['mies', 'rok', 'pepsi', 'fanta ', 'żywiec', 'okocim', 'regionalne',\n",
            "       'cola', 'lech'],\n",
            "      dtype='object')\n",
            "\n",
            "Wyniki testu t dla hipotezy dotyczącej lech:\n",
            "T-statystyka: 1.646503944538866\n",
            "Wartość p: 0.10130442686854732\n",
            "\n",
            "Wyniki testu t dla hipotezy dotyczącej cola:\n",
            "T-statystyka: 6.391908975571081\n",
            "Wartość p: 1.2249714535216758e-09\n",
            "\n",
            "Wyniki testu t dla hipotezy dotyczącej regionalne:\n",
            "T-statystyka: 17.440927488514944\n",
            "Wartość p: 2.2572528828603765e-41\n"
          ]
        }
      ]
    },
    {
      "cell_type": "markdown",
      "source": [
        "### zadanie 3"
      ],
      "metadata": {
        "id": "Hkg-P4udJzLw"
      }
    },
    {
      "cell_type": "code",
      "source": [
        "from scipy.stats import norm, shapiro\n",
        "\n",
        "normality_test_results = {col: shapiro(df[col]) for col in df.columns[2:]}\n",
        "\n",
        "print(\"\\nWyniki testu normalności (Shapiro-Wilk):\")\n",
        "for col, result in normality_test_results.items():\n",
        "    print(f\"{col}: Statystyka testowa = {result.statistic}, Wartość p = {result.pvalue}\")\n"
      ],
      "metadata": {
        "colab": {
          "base_uri": "https://localhost:8080/"
        },
        "id": "wyEvuay3Jz3s",
        "outputId": "2681043c-0bb7-499c-e93b-f3e9a8452e73"
      },
      "execution_count": null,
      "outputs": [
        {
          "output_type": "stream",
          "name": "stdout",
          "text": [
            "\n",
            "Wyniki testu normalności (Shapiro-Wilk):\n",
            "pepsi: Statystyka testowa = 0.9912384748458862, Wartość p = 0.2968809902667999\n",
            "fanta : Statystyka testowa = 0.9894830584526062, Wartość p = 0.17036965489387512\n",
            "żywiec: Statystyka testowa = 0.9913601875305176, Wartość p = 0.3080885708332062\n",
            "okocim: Statystyka testowa = 0.9875098466873169, Wartość p = 0.08890535682439804\n",
            "regionalne: Statystyka testowa = 0.936504602432251, Wartość p = 1.8769230791804148e-07\n",
            "cola: Statystyka testowa = 0.993564248085022, Wartość p = 0.5694407224655151\n",
            "lech: Statystyka testowa = 0.9936927556991577, Wartość p = 0.5875554084777832\n"
          ]
        }
      ]
    },
    {
      "cell_type": "markdown",
      "source": [
        "### zadanie 4"
      ],
      "metadata": {
        "id": "lO972VnPKFtx"
      }
    },
    {
      "cell_type": "code",
      "source": [
        "from scipy.stats import ttest_rel\n",
        "for x in df.columns:\n",
        "  print(x)\n",
        "pairs_to_test = [('okocim', 'lech'), ('fanta', 'regionalne'), ('cola', 'pepsi')]\n",
        "\n",
        "\n",
        "t_stat, p_value = ttest_rel(df[\"okocim\"], df[\"lech\"])\n",
        "print(f\"\\nWyniki testu t dla równości średnich pomiędzy okocim a lechem:\")\n",
        "print(f\"T-statystyka: {t_stat}\")\n",
        "print(f\"Wartość p: {p_value}\")\n",
        "\n",
        "#dla fanty nie działa\n",
        "#t_stat, p_value = ttest_rel(df[\"fanta\"], df[\"regionalne\"])\n",
        "#print(f\"\\nWyniki testu t dla równości średnich pomiędzy fanta a regionalne:\")\n",
        "#print(f\"T-statystyka: {t_stat}\")\n",
        "#print(f\"Wartość p: {p_value}\")\n",
        "\n",
        "t_stat, p_value = ttest_rel(df[\"cola\"], df[\"pepsi\"])\n",
        "print(f\"\\nWyniki testu t dla równości średnich pomiędzy cola a pepsi:\")\n",
        "print(f\"T-statystyka: {t_stat}\")\n",
        "print(f\"Wartość p: {p_value}\")\n"
      ],
      "metadata": {
        "colab": {
          "base_uri": "https://localhost:8080/"
        },
        "id": "pNO8qh3QJ0lE",
        "outputId": "9f94576c-67da-445c-86b1-3c312659ca20"
      },
      "execution_count": null,
      "outputs": [
        {
          "output_type": "stream",
          "name": "stdout",
          "text": [
            "mies\n",
            "rok\n",
            "pepsi\n",
            "fanta \n",
            "żywiec\n",
            "okocim\n",
            "regionalne\n",
            "cola\n",
            "lech\n",
            "\n",
            "Wyniki testu t dla równości średnich pomiędzy okocim a lechem:\n",
            "T-statystyka: -0.8438785972612856\n",
            "Wartość p: 0.3997929132766135\n",
            "\n",
            "Wyniki testu t dla równości średnich pomiędzy cola a pepsi:\n",
            "T-statystyka: 144.127738334813\n",
            "Wartość p: 7.963660733688787e-197\n"
          ]
        }
      ]
    },
    {
      "cell_type": "markdown",
      "source": [
        "### zadanie 5"
      ],
      "metadata": {
        "id": "n3JJTOh8JNkm"
      }
    },
    {
      "cell_type": "code",
      "source": [
        "from scipy.stats import levene\n",
        "\n",
        "pairs_to_test_variance = [('okocim', 'lech'), ('regionalne', 'cola')]\n",
        "\n",
        "for pair in pairs_to_test_variance:\n",
        "    stat, p_value = levene(df[pair[0]], df[pair[1]])\n",
        "    print(f\"\\nWyniki testu Levene dla równości wariancji pomiędzy {pair[0]} a {pair[1]}:\")\n",
        "    print(f\"Statystyka testowa: {stat}\")\n",
        "    print(f\"Wartość p: {p_value}\")\n"
      ],
      "metadata": {
        "colab": {
          "base_uri": "https://localhost:8080/"
        },
        "id": "DAgF8LPtLVgT",
        "outputId": "26dd00cc-1b7d-4da3-a0d4-589c2385ef00"
      },
      "execution_count": null,
      "outputs": [
        {
          "output_type": "stream",
          "name": "stdout",
          "text": [
            "\n",
            "Wyniki testu Levene dla równości wariancji pomiędzy okocim a lech:\n",
            "Statystyka testowa: 1.191182232831977\n",
            "Wartość p: 0.2757791126546958\n",
            "\n",
            "Wyniki testu Levene dla równości wariancji pomiędzy regionalne a cola:\n",
            "Statystyka testowa: 83.85984593010029\n",
            "Wartość p: 3.275749775904902e-18\n"
          ]
        }
      ]
    },
    {
      "cell_type": "markdown",
      "source": [
        "### zadanie 6"
      ],
      "metadata": {
        "id": "NRm8m__PKLpJ"
      }
    },
    {
      "cell_type": "code",
      "source": [
        "\n",
        "\n",
        "regionalne_2001 = df.loc[df['rok'] == 2001, 'regionalne']\n",
        "regionalne_2015 = df.loc[df['rok'] == 2015, 'regionalne']\n",
        "\n",
        "t_stat, p_value = ttest_rel(regionalne_2001, regionalne_2015)\n",
        "print(\"\\nWyniki testu t dla równości średnich piw regionalnych pomiędzy latami 2001 i 2015:\")\n",
        "print(f\"T-statystyka: {t_stat}\")\n",
        "print(f\"Wartość p: {p_value}\")\n"
      ],
      "metadata": {
        "colab": {
          "base_uri": "https://localhost:8080/"
        },
        "id": "J_SPJeN1MHl8",
        "outputId": "1fde27ee-6037-4d4e-f520-7a3b0e126d85"
      },
      "execution_count": null,
      "outputs": [
        {
          "output_type": "stream",
          "name": "stdout",
          "text": [
            "\n",
            "Wyniki testu t dla równości średnich piw regionalnych pomiędzy latami 2001 i 2015:\n",
            "T-statystyka: -4.981131079425873\n",
            "Wartość p: 0.00041469788280755834\n"
          ]
        }
      ]
    },
    {
      "cell_type": "markdown",
      "source": [
        "### zadanie 7"
      ],
      "metadata": {
        "id": "HYERJRuUMkmu"
      }
    },
    {
      "cell_type": "code",
      "source": [
        "df_po_reklamie = pd.read_csv(\"napoje_po_reklamie.csv\", sep=\";\")\n",
        "\n",
        "variables_to_test_po_reklamie = ['cola', 'pepsi']\n",
        "\n",
        "for variable in variables_to_test_po_reklamie:\n",
        "    if len(df[variable]) != len(df_po_reklamie[variable]):\n",
        "        print(f\"Błąd: Różne długości próbek dla zmiennej {variable}.\")\n",
        "        continue\n",
        "\n",
        "    t_stat, p_value = ttest_rel(df[variable], df_po_reklamie[variable])\n",
        "    print(f\"\\nWyniki testu t dla równości średnich pomiędzy {variable} w roku 2016 a po reklamie:\")\n",
        "    print(f\"T-statystyka: {t_stat}\")\n",
        "    print(f\"Wartość p: {p_value}\")\n",
        "\n"
      ],
      "metadata": {
        "colab": {
          "base_uri": "https://localhost:8080/"
        },
        "id": "eAYw75r4MOQV",
        "outputId": "ce8410c5-dc83-4aae-cfef-8e0459ff2b59"
      },
      "execution_count": null,
      "outputs": [
        {
          "output_type": "stream",
          "name": "stdout",
          "text": [
            "Błąd: Różne długości próbek dla zmiennej cola.\n",
            "Błąd: Różne długości próbek dla zmiennej pepsi.\n"
          ]
        }
      ]
    }
  ]
}